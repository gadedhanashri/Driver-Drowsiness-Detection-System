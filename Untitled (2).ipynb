{
 "cells": [
  {
   "cell_type": "code",
   "execution_count": 1,
   "id": "a8c04eff-58cd-4090-8a54-5fe355179972",
   "metadata": {},
   "outputs": [
    {
     "ename": "ModuleNotFoundError",
     "evalue": "No module named 'tensorflow'",
     "output_type": "error",
     "traceback": [
      "\u001b[1;31m---------------------------------------------------------------------------\u001b[0m",
      "\u001b[1;31mModuleNotFoundError\u001b[0m                       Traceback (most recent call last)",
      "Cell \u001b[1;32mIn[1], line 2\u001b[0m\n\u001b[0;32m      1\u001b[0m \u001b[38;5;28;01mimport\u001b[39;00m \u001b[38;5;21;01mcv2\u001b[39;00m\n\u001b[1;32m----> 2\u001b[0m \u001b[38;5;28;01mfrom\u001b[39;00m \u001b[38;5;21;01mkeras\u001b[39;00m\u001b[38;5;21;01m.\u001b[39;00m\u001b[38;5;21;01mmodels\u001b[39;00m \u001b[38;5;28;01mimport\u001b[39;00m load_model\n\u001b[0;32m      3\u001b[0m \u001b[38;5;28;01mfrom\u001b[39;00m \u001b[38;5;21;01mkeras\u001b[39;00m\u001b[38;5;21;01m.\u001b[39;00m\u001b[38;5;21;01mpreprocessing\u001b[39;00m \u001b[38;5;28;01mimport\u001b[39;00m image\n\u001b[0;32m      4\u001b[0m \u001b[38;5;28;01mimport\u001b[39;00m \u001b[38;5;21;01mkeras\u001b[39;00m\u001b[38;5;21;01m.\u001b[39;00m\u001b[38;5;21;01mutils\u001b[39;00m \u001b[38;5;28;01mas\u001b[39;00m \u001b[38;5;21;01mimage\u001b[39;00m\n",
      "File \u001b[1;32m~\\anaconda3\\envs\\driverdrowsiness\\lib\\site-packages\\keras\\__init__.py:21\u001b[0m\n\u001b[0;32m     15\u001b[0m \u001b[38;5;124;03m\"\"\"Implementation of the Keras API, the high-level API of TensorFlow.\u001b[39;00m\n\u001b[0;32m     16\u001b[0m \n\u001b[0;32m     17\u001b[0m \u001b[38;5;124;03mDetailed documentation and user guides are available at\u001b[39;00m\n\u001b[0;32m     18\u001b[0m \u001b[38;5;124;03m[keras.io](https://keras.io).\u001b[39;00m\n\u001b[0;32m     19\u001b[0m \u001b[38;5;124;03m\"\"\"\u001b[39;00m\n\u001b[0;32m     20\u001b[0m \u001b[38;5;66;03m# pylint: disable=unused-import\u001b[39;00m\n\u001b[1;32m---> 21\u001b[0m \u001b[38;5;28;01mfrom\u001b[39;00m \u001b[38;5;21;01mtensorflow\u001b[39;00m\u001b[38;5;21;01m.\u001b[39;00m\u001b[38;5;21;01mpython\u001b[39;00m \u001b[38;5;28;01mimport\u001b[39;00m tf2\n\u001b[0;32m     22\u001b[0m \u001b[38;5;28;01mfrom\u001b[39;00m \u001b[38;5;21;01mkeras\u001b[39;00m \u001b[38;5;28;01mimport\u001b[39;00m distribute\n\u001b[0;32m     24\u001b[0m \u001b[38;5;28;01mfrom\u001b[39;00m \u001b[38;5;21;01mkeras\u001b[39;00m \u001b[38;5;28;01mimport\u001b[39;00m models\n",
      "\u001b[1;31mModuleNotFoundError\u001b[0m: No module named 'tensorflow'"
     ]
    }
   ],
   "source": [
    "import cv2\n",
    "from keras.models import load_model\n",
    "from keras.preprocessing import image\n",
    "import keras.utils as image\n",
    "import numpy as np\n",
    "import winsound\n",
    "frequency = 3000\n",
    "duration = 1000\n",
    "# import pyfirmata"
   ]
  },
  {
   "cell_type": "code",
   "execution_count": 2,
   "id": "88e9f4f5-cc30-4b16-94f6-ff69ac82d845",
   "metadata": {},
   "outputs": [
    {
     "ename": "NameError",
     "evalue": "name 'load_model' is not defined",
     "output_type": "error",
     "traceback": [
      "\u001b[1;31m---------------------------------------------------------------------------\u001b[0m",
      "\u001b[1;31mNameError\u001b[0m                                 Traceback (most recent call last)",
      "Cell \u001b[1;32mIn[2], line 1\u001b[0m\n\u001b[1;32m----> 1\u001b[0m new_model \u001b[38;5;241m=\u001b[39m \u001b[43mload_model\u001b[49m(\u001b[38;5;124m'\u001b[39m\u001b[38;5;124mDrowsyness._detect.h5\u001b[39m\u001b[38;5;124m'\u001b[39m)\n",
      "\u001b[1;31mNameError\u001b[0m: name 'load_model' is not defined"
     ]
    }
   ],
   "source": [
    "new_model = load_model('Drowsyness._detect.h5')"
   ]
  },
  {
   "cell_type": "code",
   "execution_count": 3,
   "id": "91b8bb43-d51c-4c60-93bd-e96a104c900c",
   "metadata": {},
   "outputs": [],
   "source": [
    "input_shape = (64,64,1)"
   ]
  },
  {
   "cell_type": "code",
   "execution_count": 4,
   "id": "b9ebf97c-c799-4b11-bfe7-56f86f3664a9",
   "metadata": {},
   "outputs": [],
   "source": [
    "eye_cascade = cv2.CascadeClassifier('haarcascade_eye.xml')"
   ]
  },
  {
   "cell_type": "code",
   "execution_count": 5,
   "id": "a6c1c1a5-f358-4656-92de-fd2fac2a86e3",
   "metadata": {},
   "outputs": [],
   "source": [
    "# board = pyfirmata.ArduinoMega('COM3')\n",
    "# buzzer= board.get_pin('d:11:o')\n",
    "# left_indicator = board.get_pin('d:8:o')\n",
    "# right_indicator = board.get_pin('d:9:o')\n",
    "# left_indicator.write(1)\n",
    "# right_indicator.write(1)\n",
    "# buzzer.write(0)\n",
    "import time"
   ]
  },
  {
   "cell_type": "code",
   "execution_count": null,
   "id": "ff77b562-f61d-4afb-b056-40a8f8a5fbd9",
   "metadata": {},
   "outputs": [],
   "source": [
    "cap = cv2.VideoCapture(0)\n",
    "counter = 0\n",
    "\n",
    "while True:\n",
    "    ret, frame = cap.read()\n",
    "    frame = cv2.flip(frame, 1)\n",
    "    \n",
    "    # Coordinates of the ROI\n",
    "    x1 = 270\n",
    "    y1 = 185\n",
    "    x2 = 350\n",
    "    y2 = 215\n",
    "    # Drawing the ROI\n",
    "    # The increment/decrement by 1 is to compensate for the bounding box\n",
    "    cv2.rectangle(frame, (x1-1, y1-1), (x2+1, y2+1), (255,0,0) ,1)\n",
    "    # Extracting the ROI\n",
    "    roi = frame[y1:y2, x1:x2]\n",
    "    roi = cv2.resize(roi, (input_shape[:2]))\n",
    "    \n",
    "    roi = cv2.cvtColor(roi, cv2.COLOR_BGR2GRAY)\n",
    "    #ret, roi = cv2.threshold(roi, 95, 255, cv2.THRESH_BINARY)\n",
    "    \n",
    "    x_img = image.img_to_array(roi)\n",
    "    x_img = np.expand_dims(x_img,axis=0)\n",
    "    y = (new_model.predict(x_img) > 0.5).astype(\"int32\")\n",
    "    z = new_model.predict(x_img)\n",
    "    font = cv2.FONT_HERSHEY_SIMPLEX\n",
    "    \n",
    "    eyes = eye_cascade.detectMultiScale(roi)\n",
    "    for (ex, ey, ew, eh) in eyes:\n",
    "        cv2.rectangle(roi,(ex,ey),(ex+ew,ey+eh),(0,255,0),2)\n",
    "        \n",
    "    if y==1 and z==1:\n",
    "        cv2.putText(frame,text=f'eye open',org = (100,150),fontFace=font, fontScale =1, color=(0,255,0),thickness=3,lineType=cv2.LINE_AA)\n",
    "        cv2.putText(frame,text=f'{z}',org = (100,200),fontFace=font, fontScale =1, color=(0,255,0),thickness=3,lineType=cv2.LINE_AA)\n",
    "        #buzzer.write(0)\n",
    "        #left_indicator.write(1)\n",
    "        #right_indicator.write(1)\n",
    "        counter = counter - 1\n",
    "        if (counter < 0):\n",
    "            counter = 0\n",
    "            \n",
    "    elif y==0 and z==0:\n",
    "        cv2.putText(frame,text=f'eye close',org = (100,150),fontFace=font, fontScale =1, color=(0,0,255),thickness=3,lineType=cv2.LINE_AA)\n",
    "        cv2.putText(frame,text=f'{z}',org = (100,200),fontFace=font, fontScale =1, color=(0,0,255),thickness=3,lineType=cv2.LINE_AA)\n",
    "        cv2.putText(frame,text=f'counter = '+str(counter),org = (100,250),fontFace=font, fontScale =1, color=(0,0,0),thickness=3,lineType=cv2.LINE_AA)\n",
    "        \n",
    "        counter = counter + 1\n",
    "        if (counter > 30):\n",
    "            winsound.Beep(frequency, duration)\n",
    "            # buzzer.write(1)\n",
    "            # left_indicator.write(0)\n",
    "            # right_indicator.write(0)\n",
    "            time.sleep(0.5)\n",
    "            # buzzer.write(0)\n",
    "            # left_indicator.write(1)\n",
    "            # right_indicator.write(1)\n",
    "                        \n",
    "    else:\n",
    "        cv2.putText(frame,text=\"no detection\",org = (100,150),fontFace=font, fontScale =1, color=(255,255,255),thickness=3,lineType=cv2.LINE_AA)\n",
    "    \n",
    "    cv2.imshow('frame',frame)\n",
    "    cv2.imshow('eye',roi)\n",
    "\n",
    "    if cv2.waitKey(1) & 0xFF == ord('q'):\n",
    "        break\n",
    "\n",
    "cap.release()\n",
    "cv2.destroyAllWindows()\n"
   ]
  },
  {
   "cell_type": "code",
   "execution_count": null,
   "id": "afa526d0-9267-477e-90ed-e9afbcee9d7a",
   "metadata": {},
   "outputs": [],
   "source": []
  },
  {
   "cell_type": "code",
   "execution_count": null,
   "id": "be7e07db-14dd-4403-aff6-a6cc98c7807e",
   "metadata": {},
   "outputs": [],
   "source": []
  }
 ],
 "metadata": {
  "kernelspec": {
   "display_name": "Python 3 (ipykernel)",
   "language": "python",
   "name": "python3"
  },
  "language_info": {
   "codemirror_mode": {
    "name": "ipython",
    "version": 3
   },
   "file_extension": ".py",
   "mimetype": "text/x-python",
   "name": "python",
   "nbconvert_exporter": "python",
   "pygments_lexer": "ipython3",
   "version": "3.9.21"
  }
 },
 "nbformat": 4,
 "nbformat_minor": 5
}
