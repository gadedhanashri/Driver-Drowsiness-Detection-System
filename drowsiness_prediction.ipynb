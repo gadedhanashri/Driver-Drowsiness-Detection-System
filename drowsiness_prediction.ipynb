{
 "cells": [
  {
   "cell_type": "code",
   "execution_count": null,
   "id": "ba2dfb43-d2e3-4da5-8795-b3f16874220e",
   "metadata": {},
   "outputs": [],
   "source": []
  },
  {
   "cell_type": "code",
   "execution_count": 1,
   "id": "123e16cf",
   "metadata": {},
   "outputs": [
    {
     "ename": "ModuleNotFoundError",
     "evalue": "No module named 'pyfirmata'",
     "output_type": "error",
     "traceback": [
      "\u001b[1;31m---------------------------------------------------------------------------\u001b[0m",
      "\u001b[1;31mModuleNotFoundError\u001b[0m                       Traceback (most recent call last)",
      "\u001b[1;32m~\\AppData\\Local\\Temp\\ipykernel_2436\\3935927822.py\u001b[0m in \u001b[0;36m<module>\u001b[1;34m\u001b[0m\n\u001b[0;32m      7\u001b[0m \u001b[1;31m# frequency = 3000\u001b[0m\u001b[1;33m\u001b[0m\u001b[1;33m\u001b[0m\u001b[0m\n\u001b[0;32m      8\u001b[0m \u001b[1;31m# duration = 1000\u001b[0m\u001b[1;33m\u001b[0m\u001b[1;33m\u001b[0m\u001b[0m\n\u001b[1;32m----> 9\u001b[1;33m \u001b[1;32mimport\u001b[0m \u001b[0mpyfirmata\u001b[0m\u001b[1;33m\u001b[0m\u001b[1;33m\u001b[0m\u001b[0m\n\u001b[0m\u001b[0;32m     10\u001b[0m \u001b[1;32mimport\u001b[0m \u001b[0mos\u001b[0m\u001b[1;33m\u001b[0m\u001b[1;33m\u001b[0m\u001b[0m\n\u001b[0;32m     11\u001b[0m \u001b[1;32mimport\u001b[0m \u001b[0msys\u001b[0m\u001b[1;33m\u001b[0m\u001b[1;33m\u001b[0m\u001b[0m\n",
      "\u001b[1;31mModuleNotFoundError\u001b[0m: No module named 'pyfirmata'"
     ]
    }
   ],
   "source": [
    "import cv2\n",
    "from keras.models import load_model\n",
    "from keras.preprocessing import image\n",
    "import keras.utils as image\n",
    "import numpy as np\n",
    "# import winsound\n",
    "# frequency = 3000\n",
    "# duration = 1000\n",
    "import pyfirmata\n",
    "import os\n",
    "import sys\n",
    "sys.path.append(os.path.abspath(\"F:\\program\"))\n"
   ]
  },
  {
   "cell_type": "code",
   "execution_count": null,
   "id": "f1caa3dd-60a7-42d6-8c17-1b85e6620b26",
   "metadata": {
    "jupyter": {
     "source_hidden": true
    },
    "tags": []
   },
   "outputs": [],
   "source": [
    "new_model = load_model('Drowsyness._detect.h5')"
   ]
  },
  {
   "cell_type": "code",
   "execution_count": null,
   "id": "35a2f90d-caf7-44f8-b7fd-41313be6c140",
   "metadata": {},
   "outputs": [],
   "source": [
    "input_shape = (64,64,1)"
   ]
  },
  {
   "cell_type": "code",
   "execution_count": null,
   "id": "e513aca7-f662-46e6-9210-cc885a37f2e1",
   "metadata": {},
   "outputs": [],
   "source": [
    "board = pyserial.ArduinoMega('COM3')\n",
    "buzzer= board.get_pin('d:11:o')\n",
    "left_indicator = board.get_pin('d:8:o')\n",
    "right_indicator = board.get_pin('d:9:o')\n",
    "left_indicator.write(1)\n",
    "right_indicator.write(1)\n",
    "buzzer.write(0)\n",
    "import time"
   ]
  },
  {
   "cell_type": "code",
   "execution_count": null,
   "id": "0005607d-55ca-455c-8f22-5ae2b8b782fb",
   "metadata": {},
   "outputs": [],
   "source": [
    "cap = cv2.VideoCapture(0)\n",
    "counter = 0\n",
    "\n",
    "while True:\n",
    "    ret, frame = cap.read()\n",
    "    frame = cv2.flip(frame, 1)\n",
    "    \n",
    "    # Coordinates of the ROI\n",
    "    x1 = 270\n",
    "    y1 = 185\n",
    "    x2 = 350\n",
    "    y2 = 215\n",
    "    # Drawing the ROI\n",
    "    # The increment/decrement by 1 is to compensate for the bounding box\n",
    "    cv2.rectangle(frame, (x1-1, y1-1), (x2+1, y2+1), (255,0,0) ,1)\n",
    "    # Extracting the ROI\n",
    "    roi = frame[y1:y2, x1:x2]\n",
    "    roi = cv2.resize(roi, (input_shape[:2]))\n",
    "    \n",
    "    roi = cv2.cvtColor(roi, cv2.COLOR_BGR2GRAY)\n",
    "    #ret, roi = cv2.threshold(roi, 95, 255, cv2.THRESH_BINARY)\n",
    "    y=2\n",
    "    x_img = image.img_to_array(roi)\n",
    "    x_img = np.expand_dims(x_img,axis=0)\n",
    "    y = (new_model.predict(x_img) > 0.5).astype(\"int32\")\n",
    "    z = new_model.predict(x_img)\n",
    "    font = cv2.FONT_HERSHEY_SIMPLEX\n",
    "       \n",
    "    if y==1 and z==1:\n",
    "        cv2.putText(frame,text=f'eye open',org = (100,150),fontFace=font, fontScale =1, color=(0,255,0),thickness=3,lineType=cv2.LINE_AA)\n",
    "        cv2.putText(frame,text=f'{z}',org = (100,200),fontFace=font, fontScale =1, color=(0,255,0),thickness=3,lineType=cv2.LINE_AA)\n",
    "        buzzer.write(0)\n",
    "        left_indicator.write(1)\n",
    "        right_indicator.write(1)\n",
    "        counter = counter - 1\n",
    "        if (counter < 0):\n",
    "            counter = 0\n",
    "            pass\n",
    "            \n",
    "    elif y==0 and z==0:\n",
    "        cv2.putText(frame,text=f'eye close',org = (100,150),fontFace=font, fontScale =1, color=(0,0,255),thickness=3,lineType=cv2.LINE_AA)\n",
    "        cv2.putText(frame,text=f'{z}',org = (100,200),fontFace=font, fontScale =1, color=(0,0,255),thickness=3,lineType=cv2.LINE_AA)\n",
    "        cv2.putText(frame,text=f'counter = '+str(counter),org = (100,250),fontFace=font, fontScale =1, color=(0,0,0),thickness=3,lineType=cv2.LINE_AA)\n",
    "        \n",
    "        counter = counter + 1\n",
    "        if (counter > 30):\n",
    "            # winsound.Beep(frequency, duration)\n",
    "            buzzer.write(1)\n",
    "            left_indicator.write(0)\n",
    "            right_indicator.write(0)\n",
    "            time.sleep(0.5)\n",
    "            buzzer.write(0)\n",
    "            left_indicator.write(1)\n",
    "            right_indicator.write(1)\n",
    "            pass\n",
    "            \n",
    "                        \n",
    "    else:\n",
    "        cv2.putText(frame,text=\"no detection\",org = (100,150),fontFace=font, fontScale =1, color=(255,255,255),thickness=3,lineType=cv2.LINE_AA)\n",
    "        left_indicator.write(1)\n",
    "        right_indicator.write(1)\n",
    "    \n",
    "    cv2.imshow('frame',frame)\n",
    "\n",
    "    if cv2.waitKey(1) & 0xFF == ord('q'):\n",
    "        break\n",
    "\n",
    "cap.release()\n",
    "cv2.destroyAllWindows()\n"
   ]
  },
  {
   "cell_type": "code",
   "execution_count": null,
   "id": "ca55a0f8-d4d2-442e-9672-7a8eaf0b6172",
   "metadata": {},
   "outputs": [],
   "source": []
  }
 ],
 "metadata": {
  "kernelspec": {
   "display_name": "Python 3 (ipykernel)",
   "language": "python",
   "name": "python3"
  },
  "language_info": {
   "codemirror_mode": {
    "name": "ipython",
    "version": 3
   },
   "file_extension": ".py",
   "mimetype": "text/x-python",
   "name": "python",
   "nbconvert_exporter": "python",
   "pygments_lexer": "ipython3",
   "version": "3.9.13"
  }
 },
 "nbformat": 4,
 "nbformat_minor": 5
}
